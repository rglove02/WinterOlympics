{
  "nbformat": 4,
  "nbformat_minor": 0,
  "metadata": {
    "colab": {
      "provenance": []
    },
    "kernelspec": {
      "name": "python3",
      "display_name": "Python 3"
    },
    "language_info": {
      "name": "python"
    }
  },
  "cells": [
    {
      "cell_type": "code",
      "execution_count": null,
      "metadata": {
        "colab": {
          "base_uri": "https://localhost:8080/"
        },
        "id": "tYMmG3Ja16d7",
        "outputId": "4e6c280b-723d-4f00-eac2-a88f49176598"
      },
      "outputs": [
        {
          "output_type": "stream",
          "name": "stdout",
          "text": [
            "Looking in indexes: https://pypi.org/simple, https://us-python.pkg.dev/colab-wheels/public/simple/\n",
            "Requirement already satisfied: pandas in /usr/local/lib/python3.8/dist-packages (1.3.5)\n",
            "Requirement already satisfied: python-dateutil>=2.7.3 in /usr/local/lib/python3.8/dist-packages (from pandas) (2.8.2)\n",
            "Requirement already satisfied: pytz>=2017.3 in /usr/local/lib/python3.8/dist-packages (from pandas) (2022.6)\n",
            "Requirement already satisfied: numpy>=1.17.3 in /usr/local/lib/python3.8/dist-packages (from pandas) (1.21.6)\n",
            "Requirement already satisfied: six>=1.5 in /usr/local/lib/python3.8/dist-packages (from python-dateutil>=2.7.3->pandas) (1.15.0)\n"
          ]
        },
        {
          "output_type": "execute_result",
          "data": {
            "text/plain": [
              "pandas.core.frame.DataFrame"
            ]
          },
          "metadata": {},
          "execution_count": 6
        }
      ],
      "source": [
        "import io\n",
        "import os\n",
        "import pandas\n",
        "%pip install pandas\n",
        "\n",
        "#In the following line we're reading our social media CSV file, using comma as the delimiter.\n",
        "#The delimiter is the term for the special character that divides columns in our spreadsheet.\n",
        "winterOlympics = pandas.read_csv('WinterOlympicMedals.csv', delimiter = ',')\n",
        "\n",
        "\n",
        "#Let's see what kind of data we've created\n",
        "type(winterOlympics)"
      ]
    },
    {
      "cell_type": "code",
      "source": [
        "#prints the whole file\n",
        "winterOlympics"
      ],
      "metadata": {
        "colab": {
          "base_uri": "https://localhost:8080/",
          "height": 424
        },
        "id": "FPjt8hoTrh5L",
        "outputId": "73b425d7-fabf-43ea-f5cf-dcd0141c0887"
      },
      "execution_count": null,
      "outputs": [
        {
          "output_type": "execute_result",
          "data": {
            "text/plain": [
              "      Year                 Sport                Event      Country Gender  \\\n",
              "0     1924               Bobsled      Men's Four/Five  Switzerland    Men   \n",
              "1     1924               Bobsled      Men's Four/Five      Britain    Men   \n",
              "2     1924               Bobsled      Men's Four/Five      Belgium    Men   \n",
              "3     1924  Cross-Country Skiing  Men's 18 Kilometers       Norway    Men   \n",
              "4     1924  Cross-Country Skiing  Men's 18 Kilometers       Norway    Men   \n",
              "...    ...                   ...                  ...          ...    ...   \n",
              "2860  2014  Cross-Country Skiing  Men's 50 Kilometers       Russia    Men   \n",
              "2861  2014  Cross-Country Skiing  Men's 50 Kilometers       Russia    Men   \n",
              "2862  2014  Cross-Country Skiing  Men's 50 Kilometers       Russia    Men   \n",
              "2863  2014            Ice Hockey     Men's Ice Hockey       Canada    Men   \n",
              "2864  2014            Ice Hockey     Men's Ice Hockey       Sweden    Men   \n",
              "\n",
              "      Medal Rank   Medal Name of Athlete or Team  Age of Athlete  \n",
              "0              1    gold           Switzerland-1             NaN  \n",
              "1              2  silver               Britain-1             NaN  \n",
              "2              3  bronze               Belgium-1             NaN  \n",
              "3              1    gold           Thorleif Haug            29.0  \n",
              "4              2  silver   Johan Grøttumsbraaten            24.0  \n",
              "...          ...     ...                     ...             ...  \n",
              "2860           1    gold        Alexander Legkov            30.0  \n",
              "2861           2  silver       Maxim Vylegzhanin            31.0  \n",
              "2862           3  bronze         Ilia Chernousov            27.0  \n",
              "2863           1    gold                  Canada             NaN  \n",
              "2864           2  silver                  Sweden             NaN  \n",
              "\n",
              "[2865 rows x 9 columns]"
            ],
            "text/html": [
              "\n",
              "  <div id=\"df-57d4d1a3-3572-4c03-91b1-c3b153c6f40f\">\n",
              "    <div class=\"colab-df-container\">\n",
              "      <div>\n",
              "<style scoped>\n",
              "    .dataframe tbody tr th:only-of-type {\n",
              "        vertical-align: middle;\n",
              "    }\n",
              "\n",
              "    .dataframe tbody tr th {\n",
              "        vertical-align: top;\n",
              "    }\n",
              "\n",
              "    .dataframe thead th {\n",
              "        text-align: right;\n",
              "    }\n",
              "</style>\n",
              "<table border=\"1\" class=\"dataframe\">\n",
              "  <thead>\n",
              "    <tr style=\"text-align: right;\">\n",
              "      <th></th>\n",
              "      <th>Year</th>\n",
              "      <th>Sport</th>\n",
              "      <th>Event</th>\n",
              "      <th>Country</th>\n",
              "      <th>Gender</th>\n",
              "      <th>Medal Rank</th>\n",
              "      <th>Medal</th>\n",
              "      <th>Name of Athlete or Team</th>\n",
              "      <th>Age of Athlete</th>\n",
              "    </tr>\n",
              "  </thead>\n",
              "  <tbody>\n",
              "    <tr>\n",
              "      <th>0</th>\n",
              "      <td>1924</td>\n",
              "      <td>Bobsled</td>\n",
              "      <td>Men's Four/Five</td>\n",
              "      <td>Switzerland</td>\n",
              "      <td>Men</td>\n",
              "      <td>1</td>\n",
              "      <td>gold</td>\n",
              "      <td>Switzerland-1</td>\n",
              "      <td>NaN</td>\n",
              "    </tr>\n",
              "    <tr>\n",
              "      <th>1</th>\n",
              "      <td>1924</td>\n",
              "      <td>Bobsled</td>\n",
              "      <td>Men's Four/Five</td>\n",
              "      <td>Britain</td>\n",
              "      <td>Men</td>\n",
              "      <td>2</td>\n",
              "      <td>silver</td>\n",
              "      <td>Britain-1</td>\n",
              "      <td>NaN</td>\n",
              "    </tr>\n",
              "    <tr>\n",
              "      <th>2</th>\n",
              "      <td>1924</td>\n",
              "      <td>Bobsled</td>\n",
              "      <td>Men's Four/Five</td>\n",
              "      <td>Belgium</td>\n",
              "      <td>Men</td>\n",
              "      <td>3</td>\n",
              "      <td>bronze</td>\n",
              "      <td>Belgium-1</td>\n",
              "      <td>NaN</td>\n",
              "    </tr>\n",
              "    <tr>\n",
              "      <th>3</th>\n",
              "      <td>1924</td>\n",
              "      <td>Cross-Country Skiing</td>\n",
              "      <td>Men's 18 Kilometers</td>\n",
              "      <td>Norway</td>\n",
              "      <td>Men</td>\n",
              "      <td>1</td>\n",
              "      <td>gold</td>\n",
              "      <td>Thorleif Haug</td>\n",
              "      <td>29.0</td>\n",
              "    </tr>\n",
              "    <tr>\n",
              "      <th>4</th>\n",
              "      <td>1924</td>\n",
              "      <td>Cross-Country Skiing</td>\n",
              "      <td>Men's 18 Kilometers</td>\n",
              "      <td>Norway</td>\n",
              "      <td>Men</td>\n",
              "      <td>2</td>\n",
              "      <td>silver</td>\n",
              "      <td>Johan Grøttumsbraaten</td>\n",
              "      <td>24.0</td>\n",
              "    </tr>\n",
              "    <tr>\n",
              "      <th>...</th>\n",
              "      <td>...</td>\n",
              "      <td>...</td>\n",
              "      <td>...</td>\n",
              "      <td>...</td>\n",
              "      <td>...</td>\n",
              "      <td>...</td>\n",
              "      <td>...</td>\n",
              "      <td>...</td>\n",
              "      <td>...</td>\n",
              "    </tr>\n",
              "    <tr>\n",
              "      <th>2860</th>\n",
              "      <td>2014</td>\n",
              "      <td>Cross-Country Skiing</td>\n",
              "      <td>Men's 50 Kilometers</td>\n",
              "      <td>Russia</td>\n",
              "      <td>Men</td>\n",
              "      <td>1</td>\n",
              "      <td>gold</td>\n",
              "      <td>Alexander Legkov</td>\n",
              "      <td>30.0</td>\n",
              "    </tr>\n",
              "    <tr>\n",
              "      <th>2861</th>\n",
              "      <td>2014</td>\n",
              "      <td>Cross-Country Skiing</td>\n",
              "      <td>Men's 50 Kilometers</td>\n",
              "      <td>Russia</td>\n",
              "      <td>Men</td>\n",
              "      <td>2</td>\n",
              "      <td>silver</td>\n",
              "      <td>Maxim Vylegzhanin</td>\n",
              "      <td>31.0</td>\n",
              "    </tr>\n",
              "    <tr>\n",
              "      <th>2862</th>\n",
              "      <td>2014</td>\n",
              "      <td>Cross-Country Skiing</td>\n",
              "      <td>Men's 50 Kilometers</td>\n",
              "      <td>Russia</td>\n",
              "      <td>Men</td>\n",
              "      <td>3</td>\n",
              "      <td>bronze</td>\n",
              "      <td>Ilia Chernousov</td>\n",
              "      <td>27.0</td>\n",
              "    </tr>\n",
              "    <tr>\n",
              "      <th>2863</th>\n",
              "      <td>2014</td>\n",
              "      <td>Ice Hockey</td>\n",
              "      <td>Men's Ice Hockey</td>\n",
              "      <td>Canada</td>\n",
              "      <td>Men</td>\n",
              "      <td>1</td>\n",
              "      <td>gold</td>\n",
              "      <td>Canada</td>\n",
              "      <td>NaN</td>\n",
              "    </tr>\n",
              "    <tr>\n",
              "      <th>2864</th>\n",
              "      <td>2014</td>\n",
              "      <td>Ice Hockey</td>\n",
              "      <td>Men's Ice Hockey</td>\n",
              "      <td>Sweden</td>\n",
              "      <td>Men</td>\n",
              "      <td>2</td>\n",
              "      <td>silver</td>\n",
              "      <td>Sweden</td>\n",
              "      <td>NaN</td>\n",
              "    </tr>\n",
              "  </tbody>\n",
              "</table>\n",
              "<p>2865 rows × 9 columns</p>\n",
              "</div>\n",
              "      <button class=\"colab-df-convert\" onclick=\"convertToInteractive('df-57d4d1a3-3572-4c03-91b1-c3b153c6f40f')\"\n",
              "              title=\"Convert this dataframe to an interactive table.\"\n",
              "              style=\"display:none;\">\n",
              "        \n",
              "  <svg xmlns=\"http://www.w3.org/2000/svg\" height=\"24px\"viewBox=\"0 0 24 24\"\n",
              "       width=\"24px\">\n",
              "    <path d=\"M0 0h24v24H0V0z\" fill=\"none\"/>\n",
              "    <path d=\"M18.56 5.44l.94 2.06.94-2.06 2.06-.94-2.06-.94-.94-2.06-.94 2.06-2.06.94zm-11 1L8.5 8.5l.94-2.06 2.06-.94-2.06-.94L8.5 2.5l-.94 2.06-2.06.94zm10 10l.94 2.06.94-2.06 2.06-.94-2.06-.94-.94-2.06-.94 2.06-2.06.94z\"/><path d=\"M17.41 7.96l-1.37-1.37c-.4-.4-.92-.59-1.43-.59-.52 0-1.04.2-1.43.59L10.3 9.45l-7.72 7.72c-.78.78-.78 2.05 0 2.83L4 21.41c.39.39.9.59 1.41.59.51 0 1.02-.2 1.41-.59l7.78-7.78 2.81-2.81c.8-.78.8-2.07 0-2.86zM5.41 20L4 18.59l7.72-7.72 1.47 1.35L5.41 20z\"/>\n",
              "  </svg>\n",
              "      </button>\n",
              "      \n",
              "  <style>\n",
              "    .colab-df-container {\n",
              "      display:flex;\n",
              "      flex-wrap:wrap;\n",
              "      gap: 12px;\n",
              "    }\n",
              "\n",
              "    .colab-df-convert {\n",
              "      background-color: #E8F0FE;\n",
              "      border: none;\n",
              "      border-radius: 50%;\n",
              "      cursor: pointer;\n",
              "      display: none;\n",
              "      fill: #1967D2;\n",
              "      height: 32px;\n",
              "      padding: 0 0 0 0;\n",
              "      width: 32px;\n",
              "    }\n",
              "\n",
              "    .colab-df-convert:hover {\n",
              "      background-color: #E2EBFA;\n",
              "      box-shadow: 0px 1px 2px rgba(60, 64, 67, 0.3), 0px 1px 3px 1px rgba(60, 64, 67, 0.15);\n",
              "      fill: #174EA6;\n",
              "    }\n",
              "\n",
              "    [theme=dark] .colab-df-convert {\n",
              "      background-color: #3B4455;\n",
              "      fill: #D2E3FC;\n",
              "    }\n",
              "\n",
              "    [theme=dark] .colab-df-convert:hover {\n",
              "      background-color: #434B5C;\n",
              "      box-shadow: 0px 1px 3px 1px rgba(0, 0, 0, 0.15);\n",
              "      filter: drop-shadow(0px 1px 2px rgba(0, 0, 0, 0.3));\n",
              "      fill: #FFFFFF;\n",
              "    }\n",
              "  </style>\n",
              "\n",
              "      <script>\n",
              "        const buttonEl =\n",
              "          document.querySelector('#df-57d4d1a3-3572-4c03-91b1-c3b153c6f40f button.colab-df-convert');\n",
              "        buttonEl.style.display =\n",
              "          google.colab.kernel.accessAllowed ? 'block' : 'none';\n",
              "\n",
              "        async function convertToInteractive(key) {\n",
              "          const element = document.querySelector('#df-57d4d1a3-3572-4c03-91b1-c3b153c6f40f');\n",
              "          const dataTable =\n",
              "            await google.colab.kernel.invokeFunction('convertToInteractive',\n",
              "                                                     [key], {});\n",
              "          if (!dataTable) return;\n",
              "\n",
              "          const docLinkHtml = 'Like what you see? Visit the ' +\n",
              "            '<a target=\"_blank\" href=https://colab.research.google.com/notebooks/data_table.ipynb>data table notebook</a>'\n",
              "            + ' to learn more about interactive tables.';\n",
              "          element.innerHTML = '';\n",
              "          dataTable['output_type'] = 'display_data';\n",
              "          await google.colab.output.renderOutput(dataTable, element);\n",
              "          const docLink = document.createElement('div');\n",
              "          docLink.innerHTML = docLinkHtml;\n",
              "          element.appendChild(docLink);\n",
              "        }\n",
              "      </script>\n",
              "    </div>\n",
              "  </div>\n",
              "  "
            ]
          },
          "metadata": {},
          "execution_count": 7
        }
      ]
    },
    {
      "cell_type": "code",
      "source": [
        "#imports some built-in functions so that the program can print and count etc\n",
        "#Creates a function where it splits the paragraphs into words and changes them to lower case so they can be easily compared to\n",
        "#each other. Then there is 40 most common words that are wanted\n",
        "\n",
        "from __future__ import print_function\n",
        "from collections import Counter\n",
        "import re"
      ],
      "metadata": {
        "id": "1T9ut11o3dJ-"
      },
      "execution_count": null,
      "outputs": []
    },
    {
      "cell_type": "code",
      "source": [
        "#This command reads the fourth column from our spreadsheet.\n",
        "#iloc = integer location. We're telling pandas to look at every row different columns of the dataframe.\n",
        "yearColumn = winterOlympics.iloc[:,0]\n",
        "countryColumn = winterOlympics.iloc[:, 3]\n",
        "medalsColumn = winterOlympics.iloc[:, 5]\n"
      ],
      "metadata": {
        "id": "XM1DtAmC3jLa"
      },
      "execution_count": null,
      "outputs": []
    },
    {
      "cell_type": "code",
      "source": [
        "#Goes through the file and checks to see if the country is aCanada, if the year is the same as the one before and\n",
        "#the medal that they won is gold. Then if it is then adds the year and the amoutn of gold medals in that year to the count\n",
        "dictionary = {}\n",
        "for row in range(len(winterOlympics)):\n",
        "  year = yearColumn[row]\n",
        "  country = countryColumn[row]\n",
        "  medal = medalsColumn[row]\n",
        "  if(country == 'Canada'):\n",
        "    if(medal == 1):\n",
        "      if (str(year) in dictionary):\n",
        "        dictionary.update({str(year) : dictionary[str(year)] + 1})\n",
        "      else:\n",
        "        dictionary.update({str(year) : 1})"
      ],
      "metadata": {
        "id": "hL3UQ-lt-Uu7"
      },
      "execution_count": null,
      "outputs": []
    },
    {
      "cell_type": "code",
      "source": [
        "print(dictionary)"
      ],
      "metadata": {
        "colab": {
          "base_uri": "https://localhost:8080/"
        },
        "id": "7CBELBC585Vv",
        "outputId": "9dfbb09c-e460-4ce9-b39a-afcd1f8fff77"
      },
      "execution_count": null,
      "outputs": [
        {
          "output_type": "stream",
          "name": "stdout",
          "text": [
            "{'1924': 1, '1928': 1, '1932': 1, '1948': 2, '1952': 1, '1960': 2, '1964': 1, '1968': 1, '1976': 1, '1984': 2, '1992': 2, '1994': 3, '1998': 6, '2002': 7, '2006': 7, '2010': 14, '2014': 10}\n"
          ]
        }
      ]
    },
    {
      "cell_type": "code",
      "source": [
        "#finds the highest year that canada won the most golds\n",
        "highestGold = 0\n",
        "yearOfHigh = 0\n",
        "lowestGold = 100\n",
        "yearOfLow = 0\n",
        "\n",
        "for year in dictionary:\n",
        "\n",
        "  #Finds the greatest score\n",
        "  if dictionary [year] > highestGold:\n",
        "    highestGold = dictionary [year]\n",
        "    yearOfHigh = year\n",
        "\n",
        "  #Finds the lowest score\n",
        "  if dictionary [year] < lowestGold:\n",
        "    lowestGold = dictionary [year]\n",
        "    yearOfLow = year"
      ],
      "metadata": {
        "id": "H3-SNjq6y4-Y"
      },
      "execution_count": null,
      "outputs": []
    },
    {
      "cell_type": "markdown",
      "source": [],
      "metadata": {
        "id": "0f4lAqXZTWb_"
      }
    },
    {
      "cell_type": "code",
      "source": [
        "print(\"Highest medals won of Canada- \")\n",
        "print(\"Year: \" +yearOfHigh)\n",
        "print(\"Medals: \")\n",
        "print(highestGold)\n",
        "\n",
        "print()\n",
        "\n",
        "print(\"Lowest medals won of Canada- \")\n",
        "print(\"Year: \" +yearOfLow)\n",
        "print(\"Medals: \")\n",
        "print(lowestGold)"
      ],
      "metadata": {
        "colab": {
          "base_uri": "https://localhost:8080/"
        },
        "id": "tT9k6lDi3qdJ",
        "outputId": "5c20226f-372d-4221-ed94-2ac1c6db86cb"
      },
      "execution_count": null,
      "outputs": [
        {
          "output_type": "stream",
          "name": "stdout",
          "text": [
            "Highest medals won of Canada- \n",
            "Year: 2010\n",
            "Medals: \n",
            "14\n",
            "\n",
            "Lowest medals won of Canada- \n",
            "Year: 1924\n",
            "Medals: \n",
            "1\n"
          ]
        }
      ]
    }
  ]
}